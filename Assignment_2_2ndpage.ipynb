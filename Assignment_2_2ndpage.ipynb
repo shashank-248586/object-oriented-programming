{
 "cells": [
  {
   "cell_type": "code",
   "execution_count": 2,
   "metadata": {
    "metadata": {}
   },
   "outputs": [],
   "source": [
    "#38\n",
    "#Importance of abstraction in object-oriented programming\n",
    "#Abstraction is one of the key concept of object oriented programming language\n",
    "#It's main goal is to handeling unnecessary details from the user"
   ]
  },
  {
   "cell_type": "code",
   "execution_count": 3,
   "metadata": {
    "metadata": {}
   },
   "outputs": [],
   "source": [
    "#39\n",
    "#Abstaction is used to hide the internal functionality of the function from the user.\n",
    "#The users only intract with the basic implimentation of the function,\n",
    "#But inner working is hidden.\n",
    "#user is familier with that what function does but they dont know how it does.\n"
   ]
  },
  {
   "cell_type": "code",
   "execution_count": 4,
   "metadata": {
    "metadata": {}
   },
   "outputs": [],
   "source": [
    "#40\n",
    "#Abstraction in Python is archived using obstracted class or interfaces\n",
    "#provide by \"abc\" module\n",
    "#Abstraction classes define a commen interface for there subclasses\n",
    "#while interfaces define s set of methods that must be implimented by classes that\n",
    "#impliment the interface."
   ]
  },
  {
   "cell_type": "code",
   "execution_count": 5,
   "metadata": {
    "metadata": {}
   },
   "outputs": [],
   "source": [
    "#41\n",
    "#Exmple of abstraction \n",
    "import abc\n",
    "class Pwskils:\n",
    "    @abc.abstractmethod\n",
    "    def stu_detail(self):\n",
    "        pass\n",
    "    @abc.abstractmethod\n",
    "    def stu_assinment(self):\n",
    "        pass\n",
    "    @abc.abstractmethod\n",
    "    def stu_mark(self):\n",
    "        pass\n",
    "\n",
    "class Datascience(Pwskils):\n",
    "    def stu_detail(self):\n",
    "        print(\"Data science\")\n",
    "    def stu_assinment(self):\n",
    "        print(\" Data science Student mark\")\n",
    "    def stu_mark(self):\n",
    "        print(\"Data science student result\")\n",
    "\n",
    "class Web_development(Pwskils):\n",
    "    def stu_detail(self):\n",
    "        print(\"Web_development\")\n",
    "    def stu_assinment(self):\n",
    "        print(\" Webdevelopment Student mark\")\n",
    "    def stu_mark(self):\n",
    "        print(\"Webdevelopment student result\")"
   ]
  },
  {
   "cell_type": "code",
   "execution_count": 6,
   "metadata": {
    "metadata": {}
   },
   "outputs": [
    {
     "name": "stdout",
     "output_type": "stream",
     "text": [
      "Woof\n"
     ]
    }
   ],
   "source": [
    "#42\n",
    "#Archive of polymerphism by method overriding\n",
    "#Method over riding refers to the technique of re-implimenting a method in a child class\n",
    "#Example \n",
    "class Animal():\n",
    "    def make_sound(self):\n",
    "        print(\"Genetic animal sound\")\n",
    "\n",
    "class Dog(Animal):\n",
    "    def make_sound(self):\n",
    "        print(\"Woof\")\n",
    "\n",
    "obj=Dog()\n",
    "obj.make_sound()\n",
    "#Here we can see that Dog make_sound override the parent class due to polymerphism"
   ]
  },
  {
   "cell_type": "code",
   "execution_count": null,
   "metadata": {},
   "outputs": [],
   "source": [
    "#43\n",
    "#Example of overriding of method\n",
    "class Frute:       #Base class\n",
    "    def frute_info(self):\n",
    "        print(\"This is parent class\")\n",
    "\n",
    "class Apple(Frute):         #Sub class\n",
    "    def frute_info(self):\n",
    "        print(\"This is child class\")\n",
    "\n"
   ]
  },
  {
   "cell_type": "code",
   "execution_count": 14,
   "metadata": {
    "metadata": {}
   },
   "outputs": [
    {
     "name": "stdout",
     "output_type": "stream",
     "text": [
      "car have petrol fuel tank\n",
      "car have 4 wheels\n",
      "Truck have 8 wheel\n",
      "car have diseal fuel tank\n"
     ]
    }
   ],
   "source": [
    "#44\n",
    "#Anothr example of method overriding\n",
    "class Vehicle:\n",
    "    def wheel(self):\n",
    "        print(\"Vehicle have wheel\")\n",
    "    def fuel(self):\n",
    "        print(\"Vehicle have fuel tanker\")\n",
    "    \n",
    "class Car(Vehicle):\n",
    "    def wheel(self):\n",
    "        print(\"car have 4 wheels\")\n",
    "    def fuel(self):\n",
    "        print(\"car have petrol fuel tank\")\n",
    "\n",
    "class Truck(Vehicle):\n",
    "    def wheel(self):\n",
    "        print(\"Truck have 8 wheel\")\n",
    "    def fuel(self):\n",
    "        print(\"car have diseal fuel tank\")\n",
    "\n",
    "car=Car()\n",
    "car.fuel()\n",
    "car.wheel()\n",
    "truck=Truck()\n",
    "truck.wheel()\n",
    "truck.fuel()"
   ]
  },
  {
   "cell_type": "code",
   "execution_count": 2,
   "metadata": {
    "metadata": {}
   },
   "outputs": [],
   "source": [
    "#45\n",
    "#Polymerphism enhance code readability by opromoting code reuse and eliminiting redundancy.\n",
    "#With polymerphism you can write generic code that opeerates on object of different types of without needing\n",
    "#to know there specific implimentations.\n",
    "#Tjis leadds to shorter ,more consize code that is easier to understand and mentain "
   ]
  },
  {
   "cell_type": "code",
   "execution_count": 3,
   "metadata": {
    "metadata": {}
   },
   "outputs": [],
   "source": [
    "#46\n",
    "#Duck typing is the principle that allows for the implicit implimentation of polymerphism in Python.\n",
    "#Theres no need to expliitly declere interfaces or return types.\n",
    "#If an object has the neccessry methods or attribute you can use it regardless of thr object class or inheritance hoiracy\n"
   ]
  },
  {
   "cell_type": "code",
   "execution_count": 4,
   "metadata": {
    "metadata": {}
   },
   "outputs": [],
   "source": [
    "#47\n",
    "#Encapsulation is archived by declaring  a class data member and methods as either private or protected .ipynb_checkpoints\n",
    "#But in python we dont have keyword like public ,private and protected as in case of java .ipynb_checkpoints\n",
    "#Insteed we archive this by usoing single and double underscores"
   ]
  },
  {
   "cell_type": "code",
   "execution_count": 7,
   "metadata": {
    "metadata": {}
   },
   "outputs": [],
   "source": [
    "#48\n",
    "#Yes encpsulation is bypassed in python \n",
    "#To bypass encapsulation it is neccessry conditon to know th eclass variable \n",
    "#By knowing id simply we use \"_class name__variable name\"\n",
    "#by this syntax we can use bypass the encapsul;ation for private variables \n",
    "#For bypass protected class variable simply use \"_ckass-name_class variable\n"
   ]
  },
  {
   "cell_type": "code",
   "execution_count": 14,
   "metadata": {
    "metadata": {}
   },
   "outputs": [
    {
     "name": "stdout",
     "output_type": "stream",
     "text": [
      "Amount deposited successfuly\n",
      "Youre balance is  1300\n"
     ]
    }
   ],
   "source": [
    "#49 \n",
    "#Example of encapsulation \n",
    "class Bank():\n",
    "    def __init__(self,amount):\n",
    "        self.__amount=amount\n",
    "    def deposite(self ,balance):\n",
    "        self.__amount += balance\n",
    "        print(\"Amount deposited successfuly\")\n",
    "    \n",
    "    def withdrow(self,amout):\n",
    "        if (amout>=self.__amount):\n",
    "            return False\n",
    "        else:\n",
    "            self.__amount -=amout\n",
    "            return True\n",
    "        \n",
    "    def show_balance(self):\n",
    "        print(\"Youre balance is \",self.__amount)\n",
    "\n",
    "#let's make a object of this bank\n",
    "user1=Bank(2000)\n",
    "user1.deposite(300)\n",
    "user1.withdrow(1000)\n",
    "user1.show_balance()"
   ]
  },
  {
   "cell_type": "code",
   "execution_count": 22,
   "metadata": {
    "metadata": {}
   },
   "outputs": [
    {
     "name": "stdout",
     "output_type": "stream",
     "text": [
      "Ramesh\n",
      "rames123@gmail.com\n"
     ]
    }
   ],
   "source": [
    "#50\n",
    "#another example of encapsulaton\n",
    "class Person:\n",
    "    def __init__(self, name ,email):\n",
    "        self.__name=name\n",
    "        self.__email=email\n",
    "    def set_email(self,email):\n",
    "        self.__email=email\n",
    "    def get_email(self):\n",
    "        print(self.__email)\n",
    "    def set_name(self,name):\n",
    "        self.__name=name\n",
    "    def get_name(self):\n",
    "        print(self.__name)\n",
    "#lets make a object of person\n",
    "ramesh=Person(\"Yogi\",\"lk1224@gmail.com\")\n",
    "#Let's change it\n",
    "ramesh.set_name(\"Ramesh\")\n",
    "ramesh.set_email(\"rames123@gmail.com\")\n",
    "ramesh.get_name()\n",
    "ramesh.get_email()    "
   ]
  },
  {
   "cell_type": "code",
   "execution_count": 23,
   "metadata": {
    "metadata": {}
   },
   "outputs": [],
   "source": [
    "#51\n",
    "#Encapsulation is allows to you define controlled acces to data stored inside the object of your class.\n",
    "#This allow to you write clean ,readable,and efficient code and prevent accidental changes or deletion of your class data\n"
   ]
  },
  {
   "cell_type": "code",
   "execution_count": 1,
   "metadata": {
    "metadata": {}
   },
   "outputs": [
    {
     "name": "stdout",
     "output_type": "stream",
     "text": [
      "This is the before function\n",
      "Hello Students\n",
      "This is the after function\n"
     ]
    }
   ],
   "source": [
    "#52\n",
    "#Code for create a decorater in python that add a functionality to a simple function by adding \n",
    "#before and after the function \n",
    "def greet(func):\n",
    "    def warp():\n",
    "        print(\"This is the before function\")\n",
    "        func()\n",
    "        print(\"This is the after function\")\n",
    "    return warp\n",
    "@greet\n",
    "def say_hello():\n",
    "    print(\"Hello Students\")\n",
    "\n",
    "a=say_hello()\n"
   ]
  },
  {
   "cell_type": "code",
   "execution_count": 17,
   "metadata": {
    "metadata": {}
   },
   "outputs": [
    {
     "data": {
      "text/plain": [
       "('Metro', 'This is the class name')"
      ]
     },
     "execution_count": 17,
     "metadata": {},
     "output_type": "execute_result"
    }
   ],
   "source": [
    "#53\n",
    "#Modify the decorater and return the function name and some msg\n",
    "class Metro:\n",
    "    @classmethod\n",
    "    def name(cls):\n",
    "        return cls.__name__ ,\"This is the class name\"\n",
    "Metro.name()"
   ]
  },
  {
   "cell_type": "code",
   "execution_count": null,
   "metadata": {},
   "outputs": [],
   "source": [
    "#54\n",
    "#Modify the decorater to accept arguments and print the function name along with some message\n"
   ]
  },
  {
   "cell_type": "code",
   "execution_count": 4,
   "metadata": {
    "metadata": {}
   },
   "outputs": [
    {
     "name": "stdout",
     "output_type": "stream",
     "text": [
      "This is before the function \n",
      "Hello classes\n",
      "this is after the function \n"
     ]
    }
   ],
   "source": [
    "#56\n",
    "#Create two decorater and apply them into a single function\n",
    "def before (func):\n",
    "    def worp():\n",
    "        print(\"This is before the function \")\n",
    "        func()\n",
    "    return worp\n",
    "def after (func):\n",
    "    def worp():\n",
    "        func()\n",
    "        print(\"this is after the function \")\n",
    "    return worp\n",
    "\n",
    "@before\n",
    "@after\n",
    "def gret():\n",
    "    print(\"Hello classes\")\n",
    "b=gret()"
   ]
  },
  {
   "cell_type": "code",
   "execution_count": 5,
   "metadata": {
    "metadata": {}
   },
   "outputs": [
    {
     "name": "stdout",
     "output_type": "stream",
     "text": [
      "This is the before exicuting function\n",
      "Hello Students\n",
      "This is the after exicuting function function\n"
     ]
    }
   ],
   "source": [
    "#55\n",
    "#Modyfy the decorater to accep and passed function arguments to the worrped function \n",
    "def greet(func):\n",
    "    def warp():\n",
    "        print(\"This is the before exicuting function\")\n",
    "        func()\n",
    "        print(\"This is the after exicuting function function\")\n",
    "    return warp\n",
    "@greet\n",
    "def say_hello():\n",
    "    print(\"Hello Students\")\n",
    "\n",
    "a=say_hello()\n"
   ]
  },
  {
   "cell_type": "code",
   "execution_count": 6,
   "metadata": {
    "metadata": {}
   },
   "outputs": [],
   "source": [
    "#56"
   ]
  },
  {
   "cell_type": "code",
   "execution_count": 9,
   "metadata": {
    "metadata": {}
   },
   "outputs": [
    {
     "data": {
      "text/plain": [
       "8"
      ]
     },
     "execution_count": 9,
     "metadata": {},
     "output_type": "execute_result"
    }
   ],
   "source": [
    "#57\n",
    "#Example of static method\n",
    "class Calculater:\n",
    "    @staticmethod\n",
    "    def sum(x,y):\n",
    "        return x+y\n",
    "a=Calculater\n",
    "a.sum(2,6)"
   ]
  },
  {
   "cell_type": "code",
   "execution_count": 19,
   "metadata": {
    "metadata": {}
   },
   "outputs": [
    {
     "data": {
      "text/plain": [
       "1"
      ]
     },
     "execution_count": 19,
     "metadata": {},
     "output_type": "execute_result"
    }
   ],
   "source": [
    "#58\n",
    "#Employee class that return the number of person created \n",
    "class Employee:\n",
    "    count=0\n",
    "    def __init__(self,name):\n",
    "        self.name=name\n",
    "        Employee.count = Employee.count +1\n",
    "    \n",
    "    @classmethod\n",
    "    def person_created(cls):\n",
    "        return cls.count\n",
    "a=Employee(\"Ramesh\")\n",
    "Employee.person_created()"
   ]
  },
  {
   "cell_type": "code",
   "execution_count": 20,
   "metadata": {},
   "outputs": [],
   "source": [
    "#59\n",
    "#Python class string_foramtter apply static method and return reverse of string\n",
    "class StringFormater:\n",
    "    def __init__(self):\n",
    "        pass\n",
    "    @staticmethod\n",
    "    def reverse():\n",
    "        a=input(\"Enter the string\")\n",
    "        return a[::-1]\n",
    "a=StringFormater\n",
    "print(a.reverse())"
   ]
  },
  {
   "cell_type": "code",
   "execution_count": 14,
   "metadata": {
    "metadata": {}
   },
   "outputs": [
    {
     "data": {
      "text/plain": [
       "28.26"
      ]
     },
     "execution_count": 14,
     "metadata": {},
     "output_type": "execute_result"
    }
   ],
   "source": [
    "#60\n",
    "#class circle apply class method and return area\n",
    "class Circle:\n",
    "    @classmethod\n",
    "    def area(self,radious):\n",
    "        radius = radious\n",
    "        return 3.14 * radius ** 2\n",
    "    \n",
    "Circle.area(3)"
   ]
  },
  {
   "cell_type": "code",
   "execution_count": 19,
   "metadata": {
    "metadata": {}
   },
   "outputs": [
    {
     "data": {
      "text/plain": [
       "144.5"
      ]
     },
     "execution_count": 19,
     "metadata": {},
     "output_type": "execute_result"
    }
   ],
   "source": [
    "#61\n",
    "#class temperature converter with static method celcious to farenhit\n",
    "class Temp_converter:\n",
    "    @staticmethod\n",
    "    def cel_to_farenhit(cel):\n",
    "        f=(4.5)*cel + 32\n",
    "        return f\n",
    "Temp_converter.cel_to_farenhit(25)"
   ]
  },
  {
   "cell_type": "code",
   "execution_count": 22,
   "metadata": {
    "metadata": {}
   },
   "outputs": [
    {
     "name": "stdout",
     "output_type": "stream",
     "text": [
      "This method overrides the print statement of object method\n"
     ]
    }
   ],
   "source": [
    "#62\n",
    "#purpose of __str__ in python with example\n",
    "#__str__ is the string representation of any class \n",
    "#to see it simply code Print(functon name )\n",
    "#but default it is in hexadesimal represntation \n",
    "# Example\n",
    "class Student:\n",
    "    def __init__(self):\n",
    "        self.phone = 99999999\n",
    "        \n",
    "    def __str__(self): #__str__ will return a string represenation of \n",
    "        return \"This method overrides the print statement of object method\"\n",
    "    \n",
    "print(Student())"
   ]
  },
  {
   "cell_type": "code",
   "execution_count": 26,
   "metadata": {
    "metadata": {}
   },
   "outputs": [
    {
     "data": {
      "text/plain": [
       "6"
      ]
     },
     "execution_count": 26,
     "metadata": {},
     "output_type": "execute_result"
    }
   ],
   "source": [
    "#63\n",
    "#Workong of __len__ in python \n",
    "class My:\n",
    "    def __init__(self,name):\n",
    "        self.name=name\n",
    "    def __len__(self):\n",
    "        return(len(self.name))\n",
    "a=My(\"Ramesh\")\n",
    "a.__len__()"
   ]
  },
  {
   "cell_type": "code",
   "execution_count": 30,
   "metadata": {
    "metadata": {}
   },
   "outputs": [
    {
     "data": {
      "text/plain": [
       "5"
      ]
     },
     "execution_count": 30,
     "metadata": {},
     "output_type": "execute_result"
    }
   ],
   "source": [
    "#64\n",
    "#working of __add__ in python classes with example \n",
    "class Math:\n",
    "    def __init__(self):\n",
    "        pass\n",
    "    def __add__(a,b):\n",
    "        return a+b\n",
    "a=Math\n",
    "a.__add__(2,3)"
   ]
  },
  {
   "cell_type": "code",
   "execution_count": 34,
   "metadata": {
    "metadata": {}
   },
   "outputs": [
    {
     "name": "stdout",
     "output_type": "stream",
     "text": [
      "<class 'int'> 5\n",
      "<class 'list'> [1, 2, 5]\n"
     ]
    }
   ],
   "source": [
    "#65\n",
    "#__getitem__ uses in python \n",
    "#__getitem__ gives the element inside a data\n",
    "#example\n",
    "class Myclass:\n",
    "    def __getitem__(item):\n",
    "        print(type(item),item)\n",
    "Myclass.__getitem__(5)\n",
    "Myclass.__getitem__([1,2,5])"
   ]
  },
  {
   "cell_type": "code",
   "execution_count": 40,
   "metadata": {
    "metadata": {}
   },
   "outputs": [
    {
     "data": {
      "text/plain": [
       "1"
      ]
     },
     "execution_count": 40,
     "metadata": {},
     "output_type": "execute_result"
    }
   ],
   "source": [
    "#66\n",
    "#__iter__ :- called to initialize the itrator.it must return an itratore object\n",
    "#__next__ :- called to etrate over the itrator.it must return th enext value in the data steam\n",
    "# Example\n",
    "class Sequnce:\n",
    "    def __init__(self,line):\n",
    "        self._line=line\n",
    "        self._index=0\n",
    "    def __iter__(self):\n",
    "        return self\n",
    "    def __next__(self):\n",
    "        if(self._index < len(self._line)):\n",
    "            item=self._line[self._index]\n",
    "            self._index += 1\n",
    "            return item\n",
    "        else:\n",
    "            raise StopIteration\n",
    "data=[1,2,3,4]\n",
    "a=Sequnce(data)\n",
    "a.__iter__()\n",
    "a.__next__()"
   ]
  },
  {
   "cell_type": "code",
   "execution_count": 43,
   "metadata": {
    "metadata": {}
   },
   "outputs": [
    {
     "name": "stdout",
     "output_type": "stream",
     "text": [
      "ramesh\n"
     ]
    }
   ],
   "source": [
    "#67\n",
    "#getter method in python and example\n",
    "class Student:\n",
    "    def __init__(self,name):\n",
    "        self.__name=name\n",
    "    @property\n",
    "    def access_name(self):\n",
    "        return self.__name\n",
    "    @access_name.getter\n",
    "    def show_name(self):\n",
    "        print(self.__name)\n",
    "a=Student(\"ramesh\")\n",
    "a.show_name"
   ]
  },
  {
   "cell_type": "code",
   "execution_count": 44,
   "metadata": {
    "metadata": {}
   },
   "outputs": [],
   "source": [
    "#68\n",
    "#setter method in python \n",
    "#and a coisize example\n",
    "class Student:\n",
    "    def __init__(self, name, price):\n",
    "        self.__name = name\n",
    "        self.__price = price\n",
    "        \n",
    "    @property #it will make accesS_price as attribute of the class\n",
    "    def access_price(self):\n",
    "        return self.__price\n",
    "    \n",
    "    @access_price.setter\n",
    "    def price_set(self, price_new):\n",
    "        self.__price = price_new\n",
    "    "
   ]
  },
  {
   "cell_type": "code",
   "execution_count": 49,
   "metadata": {
    "metadata": {}
   },
   "outputs": [
    {
     "data": {
      "text/plain": [
       "78.5"
      ]
     },
     "execution_count": 49,
     "metadata": {},
     "output_type": "execute_result"
    }
   ],
   "source": [
    "#69\n",
    "#The decorater is a build in python decorater that allows you to ryrn class methods into properties\n",
    "#in a way that's both elegant and user feiendly\n",
    "class Circle:\n",
    "    def __init__(self, radius):\n",
    "        self.__radius = radius\n",
    "    @property\n",
    "    def radius(self):\n",
    "        return self.__radius\n",
    "    @radius.setter\n",
    "    def radius(self, value):\n",
    "        if value <= 0:\n",
    "            raise ValueError(\"Radius is not pos\")\n",
    "        self.__radius =value\n",
    "    def area(self):\n",
    "        return 3.14 * self.__radius * self.__radius\n",
    "a=Circle(5)\n",
    "a.radius\n",
    "a.area()"
   ]
  },
  {
   "cell_type": "code",
   "execution_count": 57,
   "metadata": {
    "metadata": {}
   },
   "outputs": [],
   "source": [
    "#70\n",
    "#deleter decorater used in python to delete a metod inside a class\n",
    "#Example\n",
    "class Student:\n",
    "    def __init__(self, name, price):\n",
    "        self.__name = name\n",
    "        self.__price = price\n",
    "        \n",
    "    @property #it will make accesS_price as attribute of the class\n",
    "    def access_price(self):\n",
    "        return self.__price\n",
    "    \n",
    "    @access_price.setter\n",
    "    def price_set(self, price_new):\n",
    "        self.__price = price_new\n",
    "    \n",
    "    @access_price.deleter\n",
    "    def del_price(self):\n",
    "        del self.__price\n",
    "a=Student(\"Ajaya\",500)\n",
    "a.price_set=344\n",
    "a.access_price\n",
    "del a.del_price"
   ]
  }
 ],
 "metadata": {
  "kernelspec": {
   "display_name": "base",
   "language": "python",
   "name": "python3"
  },
  "language_info": {
   "codemirror_mode": {
    "name": "ipython",
    "version": 3
   },
   "file_extension": ".py",
   "mimetype": "text/x-python",
   "name": "python",
   "nbconvert_exporter": "python",
   "pygments_lexer": "ipython3",
   "version": "3.11.7"
  }
 },
 "nbformat": 4,
 "nbformat_minor": 2
}
