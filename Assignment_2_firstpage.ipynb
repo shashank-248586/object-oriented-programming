{
 "cells": [
  {
   "cell_type": "code",
   "execution_count": 1,
   "id": "0ffd13b2-5d1f-4657-a0a7-c038e0a365f2",
   "metadata": {
    "metadata": {}
   },
   "outputs": [],
   "source": [
    "#assignment about Object Oriented Programming"
   ]
  },
  {
   "cell_type": "code",
   "execution_count": 2,
   "id": "87cdba5f-ab97-4df8-9504-9804667d4be7",
   "metadata": {
    "metadata": {}
   },
   "outputs": [],
   "source": [
    "#01\n",
    "#About function \n",
    "#function is a set of code ,logic ,attribute that reduces the repitation code task.\n",
    "#Also function makes code to neet ,clean and easy readable towards user."
   ]
  },
  {
   "cell_type": "code",
   "execution_count": 3,
   "id": "7b9621e2-6d8d-428a-9842-f7b44290b919",
   "metadata": {
    "metadata": {}
   },
   "outputs": [],
   "source": [
    "#02\n",
    "#Basic function to greet students\n",
    "def greet_():\n",
    "    print(\"Hello Students Welcome !.\")"
   ]
  },
  {
   "cell_type": "code",
   "execution_count": 4,
   "id": "97accb96-7112-4ded-9f4b-a9a1a2eafaa1",
   "metadata": {
    "metadata": {}
   },
   "outputs": [],
   "source": [
    "#03\n",
    "#print() is used to print or show out put some thing in output screen\n",
    "#'return' keyword return the result or return the return type"
   ]
  },
  {
   "cell_type": "code",
   "execution_count": 5,
   "id": "73f13071-9337-4022-852e-57a97eff2813",
   "metadata": {
    "metadata": {}
   },
   "outputs": [
    {
     "data": {
      "text/plain": [
       "[2, 4]"
      ]
     },
     "execution_count": 5,
     "metadata": {},
     "output_type": "execute_result"
    }
   ],
   "source": [
    "#04\n",
    "#if a function doesnot require positional argument or unordeed argument then *args used in function arguments\n",
    "#*args stroed in form of list data struture\n",
    "#Example:-\n",
    "def ret_even(*args):\n",
    "    return list(b for b in args if b%2==0)\n",
    "ret_even(2,3,4,5)\n"
   ]
  },
  {
   "cell_type": "code",
   "execution_count": 6,
   "id": "0ac67a80-8280-4d0a-94cc-424bf8fe82cf",
   "metadata": {
    "metadata": {}
   },
   "outputs": [
    {
     "data": {
      "text/plain": [
       "{'a': 5, 'b': 'string'}"
      ]
     },
     "execution_count": 6,
     "metadata": {},
     "output_type": "execute_result"
    }
   ],
   "source": [
    "#but whenever function require fixed arguments then **kwargs is used\n",
    "#**kwargs stored in form of distionary such that variable as keys and value as value of respective keys\n",
    "#Example\n",
    "def show(**kwargs):\n",
    "    return kwargs\n",
    "show(a=5,b=\"string\")"
   ]
  },
  {
   "cell_type": "code",
   "execution_count": 7,
   "id": "d10f986f-41cd-4589-b0d6-997fd01c462e",
   "metadata": {
    "metadata": {}
   },
   "outputs": [
    {
     "data": {
      "text/plain": [
       "'T'"
      ]
     },
     "execution_count": 7,
     "metadata": {},
     "output_type": "execute_result"
    }
   ],
   "source": [
    "#05\n",
    "#An itratte is an object that allows to user to itrate over collecctions of data such as list,tuples,string,distionary\n",
    "#To make itrate object we use iter() function \n",
    "#Example\n",
    "a=\"This is the code about oops\"\n",
    "obj=iter(a)  #Make the object\n",
    "next(obj)"
   ]
  },
  {
   "cell_type": "code",
   "execution_count": 8,
   "id": "201212dc-8ab0-40e9-a731-ca57fc0d2b56",
   "metadata": {
    "metadata": {}
   },
   "outputs": [],
   "source": [
    "#06\n",
    "#code that generate the square the numbers from 1 to n using a generator\n",
    "def squre(n):\n",
    "    for i in range(1,n+1):\n",
    "        yield i**2"
   ]
  },
  {
   "cell_type": "code",
   "execution_count": 9,
   "id": "b4da28db-d594-490e-a5dc-9844e7eaa69b",
   "metadata": {
    "metadata": {}
   },
   "outputs": [],
   "source": [
    "#07\n",
    "#code that generate pallindromic numbers upto n using generator\n",
    "def gen_palli(n):\n",
    "    for i in range(n):\n",
    "        a=str(i)\n",
    "        if (a==a[::-1]):\n",
    "            yield i"
   ]
  },
  {
   "cell_type": "code",
   "execution_count": 10,
   "id": "ce6d88d7-f66c-4fd2-bdcc-a466429a21e4",
   "metadata": {
    "metadata": {}
   },
   "outputs": [],
   "source": [
    "#08\n",
    "#code for generate even number from 2 to n using generator\n",
    "def gen_even(n):\n",
    "    for i in range (2,n=1):\n",
    "        if i%2==0:\n",
    "            yield i"
   ]
  },
  {
   "cell_type": "code",
   "execution_count": 11,
   "id": "77ec39d1-9d62-470c-8f52-ff5aee112efe",
   "metadata": {
    "metadata": {}
   },
   "outputs": [],
   "source": [
    "#09\n",
    "#code for generates powers of 2 upto n using generator\n",
    "def rise_pow(n):\n",
    "    for i in range (n+1):\n",
    "        yield 2**i"
   ]
  },
  {
   "cell_type": "code",
   "execution_count": 12,
   "id": "361ff35e-2094-4efc-89e0-5f36599de549",
   "metadata": {
    "metadata": {}
   },
   "outputs": [],
   "source": [
    "#10\n",
    "#code for generate prime number upto n using generator\n",
    "def gen_prime(n):\n",
    "    for i in range(2,n+1):\n",
    "        count=0\n",
    "        for j in range(2,i):\n",
    "            if(i%j==0):\n",
    "               count+=1\n",
    "        if(count==0):\n",
    "            yield i"
   ]
  },
  {
   "cell_type": "code",
   "execution_count": 13,
   "id": "5a5e7460-658e-4409-8f2f-38a937fcdf54",
   "metadata": {
    "metadata": {}
   },
   "outputs": [
    {
     "name": "stdout",
     "output_type": "stream",
     "text": [
      "6\n"
     ]
    }
   ],
   "source": [
    "#11\n",
    "#Code that uses lambda function to calculate sum of two numbers\n",
    "sum_2num=lambda a,b:a+b\n",
    "a=sum_2num(2,4)\n",
    "print(a)"
   ]
  },
  {
   "cell_type": "code",
   "execution_count": 14,
   "id": "02bd749e-9949-4287-8ddf-3a208b219986",
   "metadata": {
    "metadata": {}
   },
   "outputs": [],
   "source": [
    "#12 \n",
    "#Code for calculate squre of a given number using lambda function\n",
    "squre=lambda a: a**2"
   ]
  },
  {
   "cell_type": "code",
   "execution_count": 15,
   "id": "c2601746-79f6-4828-985a-1c936ca644df",
   "metadata": {
    "metadata": {}
   },
   "outputs": [
    {
     "data": {
      "text/plain": [
       "'False'"
      ]
     },
     "execution_count": 15,
     "metadata": {},
     "output_type": "execute_result"
    }
   ],
   "source": [
    "#13\n",
    "#Code for check whether the number is even or odd\n",
    "check_ev_od = lambda a:\"True\" if a%2==0 else \"False\"\n",
    "check_ev_od(9)"
   ]
  },
  {
   "cell_type": "code",
   "execution_count": 16,
   "id": "50d0238c-6dd5-44d3-b43e-076b06199a92",
   "metadata": {
    "metadata": {}
   },
   "outputs": [
    {
     "data": {
      "text/plain": [
       "'GoodBye'"
      ]
     },
     "execution_count": 16,
     "metadata": {},
     "output_type": "execute_result"
    }
   ],
   "source": [
    "#14\n",
    "#Code for concate two string using lambda function\n",
    "concate_2_STR= lambda x,y:x+y\n",
    "concate_2_STR(\"Good\",\"Bye\")"
   ]
  },
  {
   "cell_type": "code",
   "execution_count": 17,
   "id": "09bb78a7-25ea-437a-856b-eca61052cec0",
   "metadata": {
    "metadata": {}
   },
   "outputs": [
    {
     "data": {
      "text/plain": [
       "2"
      ]
     },
     "execution_count": 17,
     "metadata": {},
     "output_type": "execute_result"
    }
   ],
   "source": [
    "#15\n",
    "#Code for find the maximum of 3 given number using lambda function\n",
    "max_3_num = lambda x,y,z:max(x,y,z)\n",
    "max_3_num(1,2,2)"
   ]
  },
  {
   "cell_type": "code",
   "execution_count": 18,
   "id": "0ac507ec-9cd8-4747-bf1e-f4f9b1ac705d",
   "metadata": {
    "metadata": {}
   },
   "outputs": [],
   "source": [
    "#17\n",
    "#Code for generates the squares of even numbers from a given list\n",
    "def sq_even(l):\n",
    "    for i in l:\n",
    "        if(i%2==0):\n",
    "            yield i**2"
   ]
  },
  {
   "cell_type": "code",
   "execution_count": 19,
   "id": "061d9bad-d041-48c5-9aee-55e3cbdea63b",
   "metadata": {
    "metadata": {}
   },
   "outputs": [
    {
     "data": {
      "text/plain": [
       "432"
      ]
     },
     "execution_count": 19,
     "metadata": {},
     "output_type": "execute_result"
    }
   ],
   "source": [
    "#18\n",
    "#Code for calculate the product of positive number\n",
    "def mul(l):\n",
    "    result=1\n",
    "    for i in l:\n",
    "        if(i>0):\n",
    "            result*=i\n",
    "    return result\n",
    "l=[-1,2,6,-9,6,-7,6,-8]\n",
    "mul(l)"
   ]
  },
  {
   "cell_type": "code",
   "execution_count": 20,
   "id": "423399bd-cc11-47f6-a072-15643f0128f5",
   "metadata": {
    "metadata": {}
   },
   "outputs": [
    {
     "data": {
      "text/plain": [
       "[2, 2, 6, 4, 10, 6]"
      ]
     },
     "execution_count": 20,
     "metadata": {},
     "output_type": "execute_result"
    }
   ],
   "source": [
    "#19\n",
    "#Code for doubles the value of odd number from a list\n",
    "def double_odd(l):\n",
    "    return list(map(lambda x:2*x if x%2==1 else x,l))\n",
    "l=[1,2,3,4,5,6]\n",
    "double_odd(l)"
   ]
  },
  {
   "cell_type": "code",
   "execution_count": 21,
   "id": "6105b4b4-acd4-4a3e-8d2c-3c68d81d6ccc",
   "metadata": {
    "metadata": {}
   },
   "outputs": [
    {
     "data": {
      "text/plain": [
       "1293"
      ]
     },
     "execution_count": 21,
     "metadata": {},
     "output_type": "execute_result"
    }
   ],
   "source": [
    "#20\n",
    "#Code for calculate the sum of cube of number from a list\n",
    "def sum_cube(l):\n",
    "    sum=0\n",
    "    for i in l:\n",
    "        sum+=i**3\n",
    "    return sum\n",
    "l=[3,5,-9,8,3,11]\n",
    "sum_cube(l)"
   ]
  },
  {
   "cell_type": "code",
   "execution_count": 22,
   "id": "a64d10bc-d907-4e78-acd3-4f9f8ee0701a",
   "metadata": {
    "metadata": {}
   },
   "outputs": [
    {
     "data": {
      "text/plain": [
       "[2, 3, 5]"
      ]
     },
     "execution_count": 22,
     "metadata": {},
     "output_type": "execute_result"
    }
   ],
   "source": [
    "#21\n",
    "#Code that filter out prime numbers from a given list \n",
    "def is_prime(n):\n",
    "    count=0\n",
    "    for i in range(2,n):\n",
    "        if(n%i==0):\n",
    "            count+=1\n",
    "    if(count==0):\n",
    "        return True\n",
    "def filter_prime(l):\n",
    "    return list(filter(lambda x:(is_prime(x)==True)&(x!=1),l))\n",
    "l=[1,2,3,4,4,5,6]\n",
    "filter_prime(l)"
   ]
  },
  {
   "cell_type": "code",
   "execution_count": 23,
   "id": "72b1923a-0813-4e4e-a966-e5525fe49610",
   "metadata": {
    "metadata": {}
   },
   "outputs": [
    {
     "data": {
      "text/plain": [
       "4"
      ]
     },
     "execution_count": 23,
     "metadata": {},
     "output_type": "execute_result"
    }
   ],
   "source": [
    "#22\n",
    "#code for sum of two number using lamda function \n",
    "sum_2= lambda a,b:a+b\n",
    "sum_2(1,3)\n"
   ]
  },
  {
   "cell_type": "code",
   "execution_count": 24,
   "id": "323ce85d-419b-4c65-9bde-5f810872719d",
   "metadata": {
    "metadata": {}
   },
   "outputs": [
    {
     "data": {
      "text/plain": [
       "49"
      ]
     },
     "execution_count": 24,
     "metadata": {},
     "output_type": "execute_result"
    }
   ],
   "source": [
    "#23\n",
    "#Code for calculate square of a number using lambda function\n",
    "squre=lambda x: x**2\n",
    "squre (7)"
   ]
  },
  {
   "cell_type": "code",
   "execution_count": 25,
   "id": "09508f4a-864b-4be1-ae1b-dfc04d7cef0a",
   "metadata": {
    "metadata": {}
   },
   "outputs": [
    {
     "data": {
      "text/plain": [
       "False"
      ]
     },
     "execution_count": 25,
     "metadata": {},
     "output_type": "execute_result"
    }
   ],
   "source": [
    "#24\n",
    "#Code for check weather given number is even or odd using lambda function\n",
    "ev_od=lambda x:True if x%2==0 else False\n",
    "ev_od(9)"
   ]
  },
  {
   "cell_type": "code",
   "execution_count": 26,
   "id": "a75cf5c9-bbfb-4a86-bbdc-26606ff15094",
   "metadata": {
    "metadata": {}
   },
   "outputs": [
    {
     "data": {
      "text/plain": [
       "'GoodBye'"
      ]
     },
     "execution_count": 26,
     "metadata": {},
     "output_type": "execute_result"
    }
   ],
   "source": [
    "#25\n",
    "#Code for concate two string using lambda function\n",
    "concate_2_STR= lambda x,y:x+y\n",
    "concate_2_STR(\"Good\",\"Bye\")"
   ]
  },
  {
   "cell_type": "code",
   "execution_count": 27,
   "id": "7e122294-6950-4fb8-9961-9300da987a49",
   "metadata": {
    "metadata": {}
   },
   "outputs": [
    {
     "data": {
      "text/plain": [
       "2"
      ]
     },
     "execution_count": 27,
     "metadata": {},
     "output_type": "execute_result"
    }
   ],
   "source": [
    "#26\n",
    "#Code for find the maximum of 3 given number using lambda function\n",
    "max_3_num = lambda x,y,z:max(x,y,z)\n",
    "max_3_num(1,2,2)"
   ]
  },
  {
   "cell_type": "code",
   "execution_count": 28,
   "id": "2568ff2a-7ea7-45a9-90f3-8e5e2bd0d4ea",
   "metadata": {
    "metadata": {}
   },
   "outputs": [
    {
     "name": "stdout",
     "output_type": "stream",
     "text": [
      "This is property of vehicle class\n",
      "This is property of car class\n"
     ]
    }
   ],
   "source": [
    "#29\n",
    "#Inheritance in python that the process or method in which child class use the property,metod,variable of parent class\n",
    "#Example\n",
    "class Vehicle():\n",
    "    def vehicle_wheel(self):\n",
    "        print(\"This is property of vehicle class\")\n",
    "class Car(Vehicle):     #here car class inherits the vehicle class\n",
    "    def car_wheel(self):\n",
    "        print(\"This is property of car class\")\n",
    "a=Car()\n",
    "a.vehicle_wheel()\n",
    "a.car_wheel()\n"
   ]
  },
  {
   "cell_type": "code",
   "execution_count": 29,
   "id": "08858c1a-87b1-4d15-a983-4d671a666cd3",
   "metadata": {
    "metadata": {}
   },
   "outputs": [
    {
     "name": "stdout",
     "output_type": "stream",
     "text": [
      "This is parent class\n",
      "This is child class\n"
     ]
    }
   ],
   "source": [
    "#31\n",
    "#When a child class inherite the parent class if a method both derived in both child as well as parent class\n",
    "#then child class method overriding the parent method or that perticularly method complitely indecate child class\n",
    "#Example\n",
    "class Frute:\n",
    "    def frute_info(self):\n",
    "        print(\"This is parent class\")\n",
    "\n",
    "class Apple(Frute):\n",
    "    def frute_info(self):\n",
    "        print(\"This is child class\")     #Here frute_info also derived in frute class\n",
    "    def apple_info(self):\n",
    "        print(\"This is Apple info\")\n",
    "a=Frute()   \n",
    "a.frute_info()\n",
    "b=Apple()\n",
    "b.frute_info()       #here b object override the method frute_info from Frute class"
   ]
  },
  {
   "cell_type": "code",
   "execution_count": 30,
   "id": "48bc8001-f37d-429c-8225-1f11c7c912d0",
   "metadata": {
    "metadata": {}
   },
   "outputs": [],
   "source": [
    "#32\n",
    "#Code for brifly illustrate a example of inhheritancre\n",
    "class Animal():\n",
    "    def make_sound(self):\n",
    "        print(\"Genetic animal sound\")\n",
    "\n",
    "class Dog(Animal):\n",
    "    def make_sound(self):\n",
    "        print(\"Woof\")               #dog make sound override the parent class function make sound"
   ]
  },
  {
   "cell_type": "code",
   "execution_count": 31,
   "id": "a503cfd2-1485-4d94-a1b7-ebd8f2da479c",
   "metadata": {
    "metadata": {}
   },
   "outputs": [],
   "source": [
    "#33\n",
    "#Code for brifly illustrate a example of inhheritancre\n",
    "class Animal():\n",
    "    def move(self):\n",
    "        print(\"Animal moves\")\n",
    "\n",
    "class Dog(Animal):\n",
    "    def move(self):\n",
    "        print(\"Dogs runs\")               #dog make sound override the parent class function make sound"
   ]
  },
  {
   "cell_type": "code",
   "execution_count": 32,
   "id": "c753758a-3605-4feb-a46e-e11ecb43490c",
   "metadata": {
    "metadata": {}
   },
   "outputs": [],
   "source": [
    "#34\n",
    "#Another example of class\n",
    "class Mammle():\n",
    "    def reproduce(srelf):\n",
    "        print(\"Giving birth to live young\")\n",
    "class Dogmammle(Dog,Mammle):\n",
    "    def info(self):\n",
    "        print(\"Inheritig from both dog class and mammle class\")"
   ]
  },
  {
   "cell_type": "code",
   "execution_count": 33,
   "id": "dae251df-e17e-46a9-8939-0b7688d17ba3",
   "metadata": {
    "metadata": {}
   },
   "outputs": [],
   "source": [
    "#35\n",
    "#Example of overriding\n",
    "class GermanShephered(Dog):\n",
    "    def make_sound(self):\n",
    "        print(\"Bark\")"
   ]
  },
  {
   "cell_type": "code",
   "execution_count": 34,
   "id": "0f3ef479-b485-457f-879b-22b103fef94a",
   "metadata": {},
   "outputs": [],
   "source": [
    "#36\n"
   ]
  },
  {
   "cell_type": "code",
   "execution_count": 35,
   "id": "3938e539",
   "metadata": {
    "metadata": {}
   },
   "outputs": [],
   "source": [
    "#37\n",
    "#About abstraction in python and its implimentation\n",
    "#abstraction is the concept in python in which hiding the complexity\n",
    "#of a program behind the class\n",
    "#Example of abstraction\n",
    "import abc\n",
    "class Pwskils:\n",
    "    @abc.abstractmethod\n",
    "    def stu_detail(self):\n",
    "        pass\n",
    "    @abc.abstractmethod\n",
    "    def stu_assinment(self):\n",
    "        pass\n",
    "    @abc.abstractmethod\n",
    "    def stu_mark(self):\n",
    "        pass\n",
    "# Above class is a template \n",
    "#We inhetits this class to perform task by overriding of methodes\n",
    "class Datascience(Pwskils):\n",
    "    def stu_detail(self):\n",
    "        print(\"Data science\")\n",
    "    def stu_assinment(self):\n",
    "        print(\" Data science Student mark\")\n",
    "    def stu_mark(self):\n",
    "        print(\"Data science student result\")\n",
    "\n",
    "#In above class we inherite template (Pwskils) clss\n",
    "#And override all methods \n",
    "#Here each method hide by use of template "
   ]
  }
 ],
 "metadata": {
  "kernelspec": {
   "display_name": "Python 3 (ipykernel)",
   "language": "python",
   "name": "python3"
  },
  "language_info": {
   "codemirror_mode": {
    "name": "ipython",
    "version": 3
   },
   "file_extension": ".py",
   "mimetype": "text/x-python",
   "name": "python",
   "nbconvert_exporter": "python",
   "pygments_lexer": "ipython3",
   "version": "3.10.8"
  }
 },
 "nbformat": 4,
 "nbformat_minor": 5
}
